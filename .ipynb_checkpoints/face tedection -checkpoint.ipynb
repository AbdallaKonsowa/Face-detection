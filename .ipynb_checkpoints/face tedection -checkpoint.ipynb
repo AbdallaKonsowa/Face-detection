{
 "cells": [
  {
   "cell_type": "code",
   "execution_count": 1,
   "id": "8c23919f",
   "metadata": {},
   "outputs": [
    {
     "name": "stdout",
     "output_type": "stream",
     "text": [
      "Defaulting to user installation because normal site-packages is not writeable"
     ]
    },
    {
     "name": "stderr",
     "output_type": "stream",
     "text": [
      "WARNING: pip is being invoked by an old script wrapper. This will fail in a future version of pip.\n",
      "Please see https://github.com/pypa/pip/issues/5599 for advice on fixing the underlying issue.\n",
      "To avoid this problem you can invoke Python with '-m pip' instead of running pip directly.\n"
     ]
    },
    {
     "name": "stdout",
     "output_type": "stream",
     "text": [
      "\n",
      "Requirement already satisfied: labelme in c:\\users\\konsowa\\appdata\\roaming\\python\\python38\\site-packages (5.0.1)\n",
      "Requirement already satisfied: tensorflow in c:\\users\\konsowa\\appdata\\roaming\\python\\python38\\site-packages (2.8.0)\n",
      "Requirement already satisfied: tensorflow-gpu in c:\\users\\konsowa\\appdata\\roaming\\python\\python38\\site-packages (2.8.2)\n",
      "Requirement already satisfied: opencv-python in c:\\users\\konsowa\\appdata\\roaming\\python\\python38\\site-packages (4.5.5.62)\n",
      "Requirement already satisfied: matplotlib in c:\\users\\konsowa\\appdata\\roaming\\python\\python38\\site-packages (3.2.0)\n",
      "Requirement already satisfied: albumentations in c:\\users\\konsowa\\appdata\\roaming\\python\\python38\\site-packages (1.2.1)\n",
      "Requirement already satisfied: numpy in c:\\users\\konsowa\\appdata\\roaming\\python\\python38\\site-packages (from labelme) (1.22.4)\n",
      "Requirement already satisfied: imgviz>=0.11 in c:\\users\\konsowa\\appdata\\roaming\\python\\python38\\site-packages (from labelme) (1.5.0)\n",
      "Requirement already satisfied: termcolor in c:\\users\\konsowa\\appdata\\roaming\\python\\python38\\site-packages (from labelme) (1.1.0)\n",
      "Requirement already satisfied: Pillow>=2.8 in c:\\users\\konsowa\\appdata\\roaming\\python\\python38\\site-packages (from labelme) (8.2.0)\n",
      "Requirement already satisfied: natsort>=7.1.0 in c:\\users\\konsowa\\appdata\\roaming\\python\\python38\\site-packages (from labelme) (8.1.0)\n",
      "Requirement already satisfied: colorama in c:\\users\\konsowa\\appdata\\roaming\\python\\python38\\site-packages (from labelme) (0.4.4)\n",
      "Requirement already satisfied: qtpy!=1.11.2 in c:\\users\\konsowa\\appdata\\roaming\\python\\python38\\site-packages (from labelme) (2.1.0)\n",
      "Requirement already satisfied: PyQt5!=5.15.3,!=5.15.4 in c:\\users\\konsowa\\appdata\\roaming\\python\\python38\\site-packages (from labelme) (5.15.7)\n",
      "Requirement already satisfied: PyYAML in c:\\users\\konsowa\\appdata\\roaming\\python\\python38\\site-packages (from labelme) (6.0)\n",
      "Requirement already satisfied: absl-py>=0.4.0 in c:\\users\\konsowa\\appdata\\roaming\\python\\python38\\site-packages (from tensorflow) (0.13.0)\n",
      "Requirement already satisfied: grpcio<2.0,>=1.24.3 in c:\\users\\konsowa\\appdata\\roaming\\python\\python38\\site-packages (from tensorflow) (1.44.0)\n",
      "Requirement already satisfied: setuptools in c:\\users\\konsowa\\appdata\\roaming\\python\\python38\\site-packages (from tensorflow) (58.3.0)\n",
      "Requirement already satisfied: tensorboard<2.9,>=2.8 in c:\\users\\konsowa\\appdata\\roaming\\python\\python38\\site-packages (from tensorflow) (2.8.0)\n",
      "Requirement already satisfied: wrapt>=1.11.0 in c:\\users\\konsowa\\appdata\\roaming\\python\\python38\\site-packages (from tensorflow) (1.12.1)\n",
      "Requirement already satisfied: astunparse>=1.6.0 in c:\\users\\konsowa\\appdata\\roaming\\python\\python38\\site-packages (from tensorflow) (1.6.3)\n",
      "Requirement already satisfied: protobuf>=3.9.2 in c:\\users\\konsowa\\appdata\\roaming\\python\\python38\\site-packages (from tensorflow) (3.19.4)\n",
      "Requirement already satisfied: google-pasta>=0.1.1 in c:\\users\\konsowa\\appdata\\roaming\\python\\python38\\site-packages (from tensorflow) (0.2.0)\n",
      "Requirement already satisfied: opt-einsum>=2.3.2 in c:\\users\\konsowa\\appdata\\roaming\\python\\python38\\site-packages (from tensorflow) (3.3.0)\n",
      "Requirement already satisfied: keras-preprocessing>=1.1.1 in c:\\users\\konsowa\\appdata\\roaming\\python\\python38\\site-packages (from tensorflow) (1.1.2)\n",
      "Requirement already satisfied: typing-extensions>=3.6.6 in c:\\users\\konsowa\\appdata\\roaming\\python\\python38\\site-packages (from tensorflow) (3.7.4.3)\n",
      "Requirement already satisfied: six>=1.12.0 in c:\\users\\konsowa\\appdata\\roaming\\python\\python38\\site-packages (from tensorflow) (1.15.0)\n",
      "Requirement already satisfied: gast>=0.2.1 in c:\\users\\konsowa\\appdata\\roaming\\python\\python38\\site-packages (from tensorflow) (0.4.0)\n",
      "Requirement already satisfied: tf-estimator-nightly==2.8.0.dev2021122109 in c:\\users\\konsowa\\appdata\\roaming\\python\\python38\\site-packages (from tensorflow) (2.8.0.dev2021122109)\n",
      "Requirement already satisfied: tensorflow-io-gcs-filesystem>=0.23.1 in c:\\users\\konsowa\\appdata\\roaming\\python\\python38\\site-packages (from tensorflow) (0.24.0)\n",
      "Requirement already satisfied: h5py>=2.9.0 in c:\\users\\konsowa\\appdata\\roaming\\python\\python38\\site-packages (from tensorflow) (3.1.0)\n",
      "Requirement already satisfied: keras<2.9,>=2.8.0rc0 in c:\\users\\konsowa\\appdata\\roaming\\python\\python38\\site-packages (from tensorflow) (2.8.0)\n",
      "Requirement already satisfied: libclang>=9.0.1 in c:\\users\\konsowa\\appdata\\roaming\\python\\python38\\site-packages (from tensorflow) (13.0.0)\n",
      "Requirement already satisfied: flatbuffers>=1.12 in c:\\users\\konsowa\\appdata\\roaming\\python\\python38\\site-packages (from tensorflow) (1.12)\n",
      "Requirement already satisfied: tensorflow-estimator<2.9,>=2.8 in c:\\users\\konsowa\\appdata\\roaming\\python\\python38\\site-packages (from tensorflow-gpu) (2.8.0)\n",
      "Requirement already satisfied: kiwisolver>=1.0.1 in c:\\users\\konsowa\\appdata\\roaming\\python\\python38\\site-packages (from matplotlib) (1.3.1)\n",
      "Requirement already satisfied: cycler>=0.10 in c:\\users\\konsowa\\appdata\\roaming\\python\\python38\\site-packages (from matplotlib) (0.10.0)\n",
      "Requirement already satisfied: pyparsing!=2.0.4,!=2.1.2,!=2.1.6,>=2.0.1 in c:\\users\\konsowa\\appdata\\roaming\\python\\python38\\site-packages (from matplotlib) (2.4.7)\n",
      "Requirement already satisfied: python-dateutil>=2.1 in c:\\users\\konsowa\\appdata\\roaming\\python\\python38\\site-packages (from matplotlib) (2.8.2)\n",
      "Requirement already satisfied: opencv-python-headless>=4.1.1 in c:\\users\\konsowa\\appdata\\roaming\\python\\python38\\site-packages (from albumentations) (4.1.2.30)\n",
      "Requirement already satisfied: scipy in c:\\users\\konsowa\\appdata\\roaming\\python\\python38\\site-packages (from albumentations) (1.7.1)\n",
      "Requirement already satisfied: qudida>=0.0.4 in c:\\users\\konsowa\\appdata\\roaming\\python\\python38\\site-packages (from albumentations) (0.0.4)\n",
      "Requirement already satisfied: scikit-image>=0.16.1 in c:\\users\\konsowa\\appdata\\roaming\\python\\python38\\site-packages (from albumentations) (0.19.2)\n",
      "Requirement already satisfied: wheel<1.0,>=0.23.0 in c:\\users\\konsowa\\appdata\\roaming\\python\\python38\\site-packages (from astunparse>=1.6.0->tensorflow) (0.37.0)\n",
      "Requirement already satisfied: PyQt5-Qt5>=5.15.0 in c:\\users\\konsowa\\appdata\\roaming\\python\\python38\\site-packages (from PyQt5!=5.15.3,!=5.15.4->labelme) (5.15.2)\n",
      "Requirement already satisfied: PyQt5-sip<13,>=12.11 in c:\\users\\konsowa\\appdata\\roaming\\python\\python38\\site-packages (from PyQt5!=5.15.3,!=5.15.4->labelme) (12.11.0)\n",
      "Requirement already satisfied: packaging in c:\\users\\konsowa\\appdata\\roaming\\python\\python38\\site-packages (from qtpy!=1.11.2->labelme) (21.3)\n",
      "Requirement already satisfied: scikit-learn>=0.19.1 in c:\\users\\konsowa\\appdata\\roaming\\python\\python38\\site-packages (from qudida>=0.0.4->albumentations) (0.24.2)\n",
      "Requirement already satisfied: PyWavelets>=1.1.1 in c:\\users\\konsowa\\appdata\\roaming\\python\\python38\\site-packages (from scikit-image>=0.16.1->albumentations) (1.2.0)\n",
      "Requirement already satisfied: imageio>=2.4.1 in c:\\users\\konsowa\\appdata\\roaming\\python\\python38\\site-packages (from scikit-image>=0.16.1->albumentations) (2.9.0)\n",
      "Requirement already satisfied: tifffile>=2019.7.26 in c:\\users\\konsowa\\appdata\\roaming\\python\\python38\\site-packages (from scikit-image>=0.16.1->albumentations) (2022.2.9)\n",
      "Requirement already satisfied: networkx>=2.2 in c:\\users\\konsowa\\appdata\\roaming\\python\\python38\\site-packages (from scikit-image>=0.16.1->albumentations) (2.7)\n",
      "Requirement already satisfied: tensorboard-plugin-wit>=1.6.0 in c:\\users\\konsowa\\appdata\\roaming\\python\\python38\\site-packages (from tensorboard<2.9,>=2.8->tensorflow) (1.8.0)\n",
      "Requirement already satisfied: tensorboard-data-server<0.7.0,>=0.6.0 in c:\\users\\konsowa\\appdata\\roaming\\python\\python38\\site-packages (from tensorboard<2.9,>=2.8->tensorflow) (0.6.1)\n",
      "Requirement already satisfied: markdown>=2.6.8 in c:\\users\\konsowa\\appdata\\roaming\\python\\python38\\site-packages (from tensorboard<2.9,>=2.8->tensorflow) (3.3.4)\n",
      "Requirement already satisfied: werkzeug>=0.11.15 in c:\\users\\konsowa\\appdata\\roaming\\python\\python38\\site-packages (from tensorboard<2.9,>=2.8->tensorflow) (2.0.2)\n",
      "Requirement already satisfied: requests<3,>=2.21.0 in c:\\users\\konsowa\\appdata\\roaming\\python\\python38\\site-packages (from tensorboard<2.9,>=2.8->tensorflow) (2.26.0)\n",
      "Requirement already satisfied: google-auth-oauthlib<0.5,>=0.4.1 in c:\\users\\konsowa\\appdata\\roaming\\python\\python38\\site-packages (from tensorboard<2.9,>=2.8->tensorflow) (0.4.6)\n",
      "Requirement already satisfied: google-auth<3,>=1.6.3 in c:\\users\\konsowa\\appdata\\roaming\\python\\python38\\site-packages (from tensorboard<2.9,>=2.8->tensorflow) (1.35.0)\n",
      "Requirement already satisfied: cachetools<5.0,>=2.0.0 in c:\\users\\konsowa\\appdata\\roaming\\python\\python38\\site-packages (from google-auth<3,>=1.6.3->tensorboard<2.9,>=2.8->tensorflow) (4.2.4)\n",
      "Requirement already satisfied: rsa<5,>=3.1.4 in c:\\users\\konsowa\\appdata\\roaming\\python\\python38\\site-packages (from google-auth<3,>=1.6.3->tensorboard<2.9,>=2.8->tensorflow) (4.7.2)\n",
      "Requirement already satisfied: pyasn1-modules>=0.2.1 in c:\\users\\konsowa\\appdata\\roaming\\python\\python38\\site-packages (from google-auth<3,>=1.6.3->tensorboard<2.9,>=2.8->tensorflow) (0.2.8)\n",
      "Requirement already satisfied: requests-oauthlib>=0.7.0 in c:\\users\\konsowa\\appdata\\roaming\\python\\python38\\site-packages (from google-auth-oauthlib<0.5,>=0.4.1->tensorboard<2.9,>=2.8->tensorflow) (1.3.0)\n",
      "Requirement already satisfied: charset-normalizer~=2.0.0 in c:\\users\\konsowa\\appdata\\roaming\\python\\python38\\site-packages (from requests<3,>=2.21.0->tensorboard<2.9,>=2.8->tensorflow) (2.0.7)\n",
      "Requirement already satisfied: idna<4,>=2.5 in c:\\users\\konsowa\\appdata\\roaming\\python\\python38\\site-packages (from requests<3,>=2.21.0->tensorboard<2.9,>=2.8->tensorflow) (3.3)\n",
      "Requirement already satisfied: certifi>=2017.4.17 in c:\\users\\konsowa\\appdata\\roaming\\python\\python38\\site-packages (from requests<3,>=2.21.0->tensorboard<2.9,>=2.8->tensorflow) (2021.10.8)\n",
      "Requirement already satisfied: urllib3<1.27,>=1.21.1 in c:\\users\\konsowa\\appdata\\roaming\\python\\python38\\site-packages (from requests<3,>=2.21.0->tensorboard<2.9,>=2.8->tensorflow) (1.26.7)\n",
      "Requirement already satisfied: joblib>=0.11 in c:\\users\\konsowa\\appdata\\roaming\\python\\python38\\site-packages (from scikit-learn>=0.19.1->qudida>=0.0.4->albumentations) (1.0.1)\n",
      "Requirement already satisfied: threadpoolctl>=2.0.0 in c:\\users\\konsowa\\appdata\\roaming\\python\\python38\\site-packages (from scikit-learn>=0.19.1->qudida>=0.0.4->albumentations) (2.2.0)\n",
      "Requirement already satisfied: pyasn1<0.5.0,>=0.4.6 in c:\\users\\konsowa\\appdata\\roaming\\python\\python38\\site-packages (from pyasn1-modules>=0.2.1->google-auth<3,>=1.6.3->tensorboard<2.9,>=2.8->tensorflow) (0.4.8)\n",
      "Requirement already satisfied: oauthlib>=3.0.0 in c:\\users\\konsowa\\appdata\\roaming\\python\\python38\\site-packages (from requests-oauthlib>=0.7.0->google-auth-oauthlib<0.5,>=0.4.1->tensorboard<2.9,>=2.8->tensorflow) (3.1.1)\n"
     ]
    }
   ],
   "source": [
    "!pip install labelme tensorflow tensorflow-gpu opencv-python matplotlib albumentations"
   ]
  },
  {
   "cell_type": "code",
   "execution_count": 2,
   "id": "52ca505b",
   "metadata": {},
   "outputs": [
    {
     "name": "stdout",
     "output_type": "stream",
     "text": [
      "Requirement already satisfied: opencv-python in c:\\users\\konsowa\\appdata\\local\\programs\\python\\python39\\lib\\site-packages (4.6.0.66)\n",
      "Requirement already satisfied: numpy>=1.14.5 in c:\\users\\konsowa\\appdata\\local\\programs\\python\\python39\\lib\\site-packages (from opencv-python) (1.21.1)\n",
      "\n",
      "[notice] A new release of pip available: 22.1.2 -> 22.2\n",
      "[notice] To update, run: c:\\users\\konsowa\\appdata\\local\\programs\\python\\python39\\python.exe -m pip install --upgrade pip\n",
      "Note: you may need to restart the kernel to use updated packages.\n"
     ]
    }
   ],
   "source": [
    "pip install opencv-python\n"
   ]
  },
  {
   "cell_type": "code",
   "execution_count": 3,
   "id": "b98c958d",
   "metadata": {},
   "outputs": [],
   "source": [
    "import os\n",
    "import time\n",
    "import uuid # Uniform Unique identifier\n",
    "import cv2\n"
   ]
  },
  {
   "cell_type": "code",
   "execution_count": 4,
   "id": "1abbb08f",
   "metadata": {},
   "outputs": [],
   "source": [
    "IMAGES_PATH = os.path.join('data','images')\n",
    "number_images = 30\n",
    "# Go and create Data folder and add (images, labels) folders on it"
   ]
  },
  {
   "cell_type": "code",
   "execution_count": null,
   "id": "dfaebfcd",
   "metadata": {},
   "outputs": [],
   "source": []
  },
  {
   "cell_type": "code",
   "execution_count": 5,
   "id": "afccb3ff",
   "metadata": {},
   "outputs": [],
   "source": [
    "import cv2\n",
    "\n",
    "cap = cv2.VideoCapture(0)\n",
    "\n",
    "for imgnum in range(number_images):\n",
    "    print('Collecting image {}'.format(imgnum))\n",
    "    ret, frame = cap.read()\n",
    "    imgname = os.path.join(IMAGES_PATH,f'{str(uuid.uuid1())}.jpg')\n",
    "    cv2.imwrite(imgname, frame)\n",
    "    cv2.imshow('frame', frame)\n",
    "    time.sleep(0.5)\n",
    "\n",
    "\n",
    "    if cv2.waitKey(1) & 0xFF == ord('q'):\n",
    "        break\n",
    "\n",
    "cap.release()\n",
    "cv2.destroyAllWindows()"
   ]
  },
  {
   "cell_type": "code",
   "execution_count": 7,
   "id": "e95566de",
   "metadata": {
    "collapsed": true
   },
   "outputs": [
    {
     "name": "stdout",
     "output_type": "stream",
     "text": [
      "Defaulting to user installation because normal site-packages is not writeable\n",
      "Requirement already satisfied: labelme in c:\\users\\konsowa\\appdata\\roaming\\python\\python38\\site-packages (5.0.1)\n",
      "Requirement already satisfied: PyYAML in c:\\users\\konsowa\\appdata\\roaming\\python\\python38\\site-packages (from labelme) (6.0)\n",
      "Requirement already satisfied: termcolor in c:\\users\\konsowa\\appdata\\roaming\\python\\python38\\site-packages (from labelme) (1.1.0)\n",
      "Requirement already satisfied: colorama in c:\\users\\konsowa\\appdata\\roaming\\python\\python38\\site-packages (from labelme) (0.4.4)\n",
      "Requirement already satisfied: natsort>=7.1.0 in c:\\users\\konsowa\\appdata\\roaming\\python\\python38\\site-packages (from labelme) (8.1.0)\n",
      "Requirement already satisfied: Pillow>=2.8 in c:\\users\\konsowa\\appdata\\roaming\\python\\python38\\site-packages (from labelme) (8.2.0)\n",
      "Requirement already satisfied: qtpy!=1.11.2 in c:\\users\\konsowa\\appdata\\roaming\\python\\python38\\site-packages (from labelme) (2.1.0)\n",
      "Requirement already satisfied: matplotlib<3.3 in c:\\users\\konsowa\\appdata\\roaming\\python\\python38\\site-packages (from labelme) (3.2.0)\n",
      "Requirement already satisfied: numpy in c:\\users\\konsowa\\appdata\\roaming\\python\\python38\\site-packages (from labelme) (1.22.4)\n",
      "Requirement already satisfied: imgviz>=0.11 in c:\\users\\konsowa\\appdata\\roaming\\python\\python38\\site-packages (from labelme) (1.5.0)\n",
      "Requirement already satisfied: PyQt5!=5.15.3,!=5.15.4 in c:\\users\\konsowa\\appdata\\roaming\\python\\python38\\site-packages (from labelme) (5.15.7)\n",
      "Requirement already satisfied: kiwisolver>=1.0.1 in c:\\users\\konsowa\\appdata\\roaming\\python\\python38\\site-packages (from matplotlib<3.3->labelme) (1.3.1)\n",
      "Requirement already satisfied: python-dateutil>=2.1 in c:\\users\\konsowa\\appdata\\roaming\\python\\python38\\site-packages (from matplotlib<3.3->labelme) (2.8.2)\n",
      "Requirement already satisfied: cycler>=0.10 in c:\\users\\konsowa\\appdata\\roaming\\python\\python38\\site-packages (from matplotlib<3.3->labelme) (0.10.0)\n",
      "Requirement already satisfied: pyparsing!=2.0.4,!=2.1.2,!=2.1.6,>=2.0.1 in c:\\users\\konsowa\\appdata\\roaming\\python\\python38\\site-packages (from matplotlib<3.3->labelme) (2.4.7)\n",
      "Requirement already satisfied: PyQt5-sip<13,>=12.11 in c:\\users\\konsowa\\appdata\\roaming\\python\\python38\\site-packages (from PyQt5!=5.15.3,!=5.15.4->labelme) (12.11.0)\n",
      "Requirement already satisfied: PyQt5-Qt5>=5.15.0 in c:\\users\\konsowa\\appdata\\roaming\\python\\python38\\site-packages (from PyQt5!=5.15.3,!=5.15.4->labelme) (5.15.2)\n",
      "Requirement already satisfied: packaging in c:\\users\\konsowa\\appdata\\roaming\\python\\python38\\site-packages (from qtpy!=1.11.2->labelme) (21.3)\n",
      "Requirement already satisfied: six in c:\\users\\konsowa\\appdata\\roaming\\python\\python38\\site-packages (from cycler>=0.10->matplotlib<3.3->labelme) (1.15.0)\n"
     ]
    },
    {
     "name": "stderr",
     "output_type": "stream",
     "text": [
      "WARNING: pip is being invoked by an old script wrapper. This will fail in a future version of pip.\n",
      "Please see https://github.com/pypa/pip/issues/5599 for advice on fixing the underlying issue.\n",
      "To avoid this problem you can invoke Python with '-m pip' instead of running pip directly.\n"
     ]
    }
   ],
   "source": [
    "!pip install labelme"
   ]
  },
  {
   "cell_type": "code",
   "execution_count": 8,
   "id": "6a4873be",
   "metadata": {},
   "outputs": [
    {
     "ename": "NameError",
     "evalue": "name 'labelme' is not defined",
     "output_type": "error",
     "traceback": [
      "\u001b[1;31m---------------------------------------------------------------------------\u001b[0m",
      "\u001b[1;31mNameError\u001b[0m                                 Traceback (most recent call last)",
      "\u001b[1;32m~\\AppData\\Local\\Temp/ipykernel_13608/737834875.py\u001b[0m in \u001b[0;36m<module>\u001b[1;34m\u001b[0m\n\u001b[1;32m----> 1\u001b[1;33m \u001b[0mlabelme\u001b[0m\u001b[1;33m\u001b[0m\u001b[1;33m\u001b[0m\u001b[0m\n\u001b[0m",
      "\u001b[1;31mNameError\u001b[0m: name 'labelme' is not defined"
     ]
    }
   ],
   "source": [
    "labelme"
   ]
  },
  {
   "cell_type": "code",
   "execution_count": null,
   "id": "247a03b5",
   "metadata": {},
   "outputs": [],
   "source": [
    "pip install labelme"
   ]
  },
  {
   "cell_type": "code",
   "execution_count": null,
   "id": "0232b8fa",
   "metadata": {},
   "outputs": [],
   "source": []
  }
 ],
 "metadata": {
  "kernelspec": {
   "display_name": "Python 3 (ipykernel)",
   "language": "python",
   "name": "python3"
  },
  "language_info": {
   "codemirror_mode": {
    "name": "ipython",
    "version": 3
   },
   "file_extension": ".py",
   "mimetype": "text/x-python",
   "name": "python",
   "nbconvert_exporter": "python",
   "pygments_lexer": "ipython3",
   "version": "3.9.6"
  }
 },
 "nbformat": 4,
 "nbformat_minor": 5
}
